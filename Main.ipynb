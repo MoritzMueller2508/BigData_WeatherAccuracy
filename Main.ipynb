{
 "cells": [
  {
   "cell_type": "markdown",
   "source": "# Weather forecast and actual weather\n\nUsing the API, we try to compare the weather forecast of last week with the actual weather occuring on the specific date.\nTherefore we use the OpenWeather-API to retreive all necessary information.",
   "metadata": {
    "tags": [],
    "cell_id": "00000-f83569ee-fbc9-4f21-b443-2396e6a05747",
    "deepnote_cell_type": "markdown"
   }
  },
  {
   "cell_type": "code",
   "metadata": {
    "tags": [],
    "cell_id": "00001-4bd4557a-dbe7-49f2-b8db-aa90b6f42a37",
    "deepnote_to_be_reexecuted": false,
    "source_hash": "bcd3ffec",
    "execution_start": 1635596597687,
    "execution_millis": 4829,
    "deepnote_cell_type": "code"
   },
   "source": "%pip install kafka-python\n%run Functions.ipynb import *",
   "outputs": [
    {
     "name": "stdout",
     "text": "Collecting kafka-python\n  Downloading kafka_python-2.0.2-py2.py3-none-any.whl (246 kB)\n\u001b[K     |████████████████████████████████| 246 kB 19.7 MB/s \n\u001b[?25hInstalling collected packages: kafka-python\nSuccessfully installed kafka-python-2.0.2\n\u001b[33mWARNING: Running pip as the 'root' user can result in broken permissions and conflicting behaviour with the system package manager. It is recommended to use a virtual environment instead: https://pip.pypa.io/warnings/venv\u001b[0m\n\u001b[33mWARNING: You are using pip version 21.2.4; however, version 21.3.1 is available.\nYou should consider upgrading via the '/usr/local/bin/python -m pip install --upgrade pip' command.\u001b[0m\nNote: you may need to restart the kernel to use updated packages.\n",
     "output_type": "stream"
    }
   ],
   "execution_count": 61
  },
  {
   "cell_type": "code",
   "metadata": {
    "tags": [],
    "cell_id": "00000-e600ea9d-e447-42cc-81fc-41a2a6996b40",
    "deepnote_to_be_reexecuted": false,
    "source_hash": "a1b8451d",
    "execution_start": 1635596877572,
    "execution_millis": 5,
    "deepnote_cell_type": "code"
   },
   "source": "import requests\nimport datetime\nimport logging as log\nfrom kafka import KafkaProducer\nfrom kafka.errors import KafkaError\n\nAPI_KEY = 'fac9ad607136e9c0f991980b5cd58ed7'",
   "outputs": [],
   "execution_count": 67
  },
  {
   "cell_type": "code",
   "metadata": {
    "tags": [],
    "cell_id": "00000-b57fcf2f-5f79-4200-b69e-5c50747ccb24",
    "deepnote_to_be_reexecuted": false,
    "source_hash": "5dbe2f3a",
    "execution_start": 1635595920310,
    "execution_millis": 241,
    "deepnote_cell_type": "code"
   },
   "source": "url = 'https://api.openweathermap.org/data/2.5/onecall'\nresponse = requests.get(url, params={\n    'lat': 49.4875,\n    'lon': 8.4660,\n    'exclude': 'current,minutely,hourly,alerts',\n    'appid': API_KEY\n})\n\nresponse.json()",
   "outputs": [
    {
     "output_type": "execute_result",
     "execution_count": 46,
     "data": {
      "text/plain": "{'lat': 49.4875,\n 'lon': 8.466,\n 'timezone': 'Europe/Berlin',\n 'timezone_offset': 7200,\n 'daily': [{'dt': 1635591600,\n   'sunrise': 1635574274,\n   'sunset': 1635610090,\n   'moonrise': 1635547680,\n   'moonset': 1635603660,\n   'moon_phase': 0.8,\n   'temp': {'day': 281.95,\n    'min': 281.54,\n    'max': 283.58,\n    'night': 283.58,\n    'eve': 282.81,\n    'morn': 281.93},\n   'feels_like': {'day': 281.95,\n    'night': 282.9,\n    'eve': 281.18,\n    'morn': 281.93},\n   'pressure': 1007,\n   'humidity': 85,\n   'dew_point': 279.57,\n   'wind_speed': 3.38,\n   'wind_deg': 172,\n   'wind_gust': 10.53,\n   'weather': [{'id': 500,\n     'main': 'Rain',\n     'description': 'light rain',\n     'icon': '10d'}],\n   'clouds': 80,\n   'pop': 0.85,\n   'rain': 0.38,\n   'uvi': 0.52},\n  {'dt': 1635678000,\n   'sunrise': 1635660773,\n   'sunset': 1635696388,\n   'moonrise': 1635638580,\n   'moonset': 1635691320,\n   'moon_phase': 0.84,\n   'temp': {'day': 288.74,\n    'min': 283.5,\n    'max': 290.89,\n    'night': 285.51,\n    'eve': 288.32,\n    'morn': 283.62},\n   'feels_like': {'day': 287.97,\n    'night': 284.73,\n    'eve': 287.56,\n    'morn': 282.94},\n   'pressure': 1008,\n   'humidity': 62,\n   'dew_point': 281.28,\n   'wind_speed': 3.08,\n   'wind_deg': 168,\n   'wind_gust': 10.02,\n   'weather': [{'id': 804,\n     'main': 'Clouds',\n     'description': 'overcast clouds',\n     'icon': '04d'}],\n   'clouds': 95,\n   'pop': 0.01,\n   'uvi': 1.25},\n  {'dt': 1635764400,\n   'sunrise': 1635747271,\n   'sunset': 1635782687,\n   'moonrise': 1635729600,\n   'moonset': 1635778860,\n   'moon_phase': 0.87,\n   'temp': {'day': 284.88,\n    'min': 281.78,\n    'max': 285.78,\n    'night': 281.78,\n    'eve': 283.73,\n    'morn': 284.42},\n   'feels_like': {'day': 284.12,\n    'night': 280.44,\n    'eve': 283.06,\n    'morn': 283.9},\n   'pressure': 1005,\n   'humidity': 77,\n   'dew_point': 280.82,\n   'wind_speed': 3.95,\n   'wind_deg': 196,\n   'wind_gust': 9.46,\n   'weather': [{'id': 501,\n     'main': 'Rain',\n     'description': 'moderate rain',\n     'icon': '10d'}],\n   'clouds': 100,\n   'pop': 1,\n   'rain': 6.21,\n   'uvi': 1.27},\n  {'dt': 1635850800,\n   'sunrise': 1635833770,\n   'sunset': 1635868988,\n   'moonrise': 1635820800,\n   'moonset': 1635866280,\n   'moon_phase': 0.91,\n   'temp': {'day': 281.99,\n    'min': 280.75,\n    'max': 283.34,\n    'night': 281.21,\n    'eve': 282.28,\n    'morn': 280.94},\n   'feels_like': {'day': 279.75,\n    'night': 279.24,\n    'eve': 280.36,\n    'morn': 280.04},\n   'pressure': 1002,\n   'humidity': 84,\n   'dew_point': 279.33,\n   'wind_speed': 3.95,\n   'wind_deg': 198,\n   'wind_gust': 9.56,\n   'weather': [{'id': 500,\n     'main': 'Rain',\n     'description': 'light rain',\n     'icon': '10d'}],\n   'clouds': 99,\n   'pop': 0.97,\n   'rain': 4.47,\n   'uvi': 0.37},\n  {'dt': 1635937200,\n   'sunrise': 1635920268,\n   'sunset': 1635955290,\n   'moonrise': 1635912060,\n   'moonset': 1635953820,\n   'moon_phase': 0.94,\n   'temp': {'day': 283.96,\n    'min': 279.25,\n    'max': 283.96,\n    'night': 282.41,\n    'eve': 282.34,\n    'morn': 279.25},\n   'feels_like': {'day': 282.92,\n    'night': 281.81,\n    'eve': 281.82,\n    'morn': 278.4},\n   'pressure': 1005,\n   'humidity': 70,\n   'dew_point': 278.56,\n   'wind_speed': 2.9,\n   'wind_deg': 185,\n   'wind_gust': 6.87,\n   'weather': [{'id': 500,\n     'main': 'Rain',\n     'description': 'light rain',\n     'icon': '10d'}],\n   'clouds': 94,\n   'pop': 0.37,\n   'rain': 0.26,\n   'uvi': 0.74},\n  {'dt': 1636023600,\n   'sunrise': 1636006767,\n   'sunset': 1636041595,\n   'moonrise': 1636003560,\n   'moonset': 1636041480,\n   'moon_phase': 0,\n   'temp': {'day': 284.01,\n    'min': 280.86,\n    'max': 284.01,\n    'night': 282.43,\n    'eve': 282.83,\n    'morn': 280.86},\n   'feels_like': {'day': 282.74,\n    'night': 281.82,\n    'eve': 281.74,\n    'morn': 279.31},\n   'pressure': 1004,\n   'humidity': 61,\n   'dew_point': 276.73,\n   'wind_speed': 4.04,\n   'wind_deg': 347,\n   'wind_gust': 6.7,\n   'weather': [{'id': 500,\n     'main': 'Rain',\n     'description': 'light rain',\n     'icon': '10d'}],\n   'clouds': 100,\n   'pop': 0.42,\n   'rain': 0.17,\n   'uvi': 1},\n  {'dt': 1636110000,\n   'sunrise': 1636093266,\n   'sunset': 1636127900,\n   'moonrise': 1636095240,\n   'moonset': 1636129440,\n   'moon_phase': 0.02,\n   'temp': {'day': 283.47,\n    'min': 280.09,\n    'max': 283.47,\n    'night': 281.11,\n    'eve': 282.02,\n    'morn': 280.09},\n   'feels_like': {'day': 282.15,\n    'night': 280.23,\n    'eve': 281.61,\n    'morn': 279.24},\n   'pressure': 1020,\n   'humidity': 61,\n   'dew_point': 276.29,\n   'wind_speed': 2.16,\n   'wind_deg': 7,\n   'wind_gust': 4,\n   'weather': [{'id': 804,\n     'main': 'Clouds',\n     'description': 'overcast clouds',\n     'icon': '04d'}],\n   'clouds': 100,\n   'pop': 0.04,\n   'uvi': 1},\n  {'dt': 1636196400,\n   'sunrise': 1636179765,\n   'sunset': 1636214208,\n   'moonrise': 1636187040,\n   'moonset': 1636217760,\n   'moon_phase': 0.06,\n   'temp': {'day': 283.47,\n    'min': 278.45,\n    'max': 283.47,\n    'night': 279.89,\n    'eve': 280.97,\n    'morn': 278.45},\n   'feels_like': {'day': 282.07,\n    'night': 279.89,\n    'eve': 280.97,\n    'morn': 278.45},\n   'pressure': 1025,\n   'humidity': 58,\n   'dew_point': 275.51,\n   'wind_speed': 1.9,\n   'wind_deg': 8,\n   'wind_gust': 4.75,\n   'weather': [{'id': 800,\n     'main': 'Clear',\n     'description': 'clear sky',\n     'icon': '01d'}],\n   'clouds': 5,\n   'pop': 0,\n   'uvi': 1}]}"
     },
     "metadata": {}
    }
   ],
   "execution_count": 46
  },
  {
   "cell_type": "code",
   "metadata": {
    "tags": [],
    "cell_id": "00002-c536e0eb-2df9-41c0-85b7-3c6bb59a22cd",
    "deepnote_to_be_reexecuted": false,
    "source_hash": "400f4f6b",
    "execution_start": 1635596500304,
    "execution_millis": 8,
    "deepnote_cell_type": "code"
   },
   "source": "json = response.json()\ndaily_forecasts = json['daily']\n\nforecasts = {\n    day: {\n        'date': datetime.datetime.fromtimestamp(daily_forecasts[index]['dt']),\n        'temp': round(kelvin_to_celsius(daily_forecasts[index]['temp']['day']), 2),\n        'rain': daily_forecasts[index]['rain'] if 'rain' in daily_forecasts[index] else 0,\n        'snow': daily_forecasts[index]['snow'] if 'snow' in daily_forecasts[index] else 0,\n        'clouds': daily_forecasts[index]['clouds'],\n        'wind_speed': daily_forecasts[index]['wind_speed']\n    }\n    for day, index in [('today', 0), ('7 days', -1)]\n}\n\nforecasts",
   "outputs": [
    {
     "output_type": "execute_result",
     "execution_count": 60,
     "data": {
      "text/plain": "{'today': {'date': datetime.datetime(2021, 10, 30, 11, 0),\n  'temp': 8.8,\n  'rain': 0.38,\n  'snow': 0,\n  'clouds': 80,\n  'wind_speed': 3.38},\n '7 days': {'date': datetime.datetime(2021, 11, 6, 11, 0),\n  'temp': 10.32,\n  'rain': 0,\n  'snow': 0,\n  'clouds': 5,\n  'wind_speed': 1.9}}"
     },
     "metadata": {}
    }
   ],
   "execution_count": 60
  },
  {
   "cell_type": "code",
   "metadata": {
    "tags": [],
    "cell_id": "00001-8aa4b742-098f-4119-848b-f5526e2829ed",
    "deepnote_to_be_reexecuted": false,
    "source_hash": "296ab929",
    "execution_start": 1635596920113,
    "execution_millis": 82,
    "deepnote_cell_type": "code"
   },
   "source": "producer = KafkaProducer(bootstrap_servers='localhost:0000')\ntry:\n    producer.send('bda', forecasts)\nexcept KafkaError:\n    log.exception('Send error')\n    pass",
   "outputs": [
    {
     "output_type": "error",
     "ename": "NoBrokersAvailable",
     "evalue": "NoBrokersAvailable",
     "traceback": [
      "\u001b[0;31m---------------------------------------------------------------------------\u001b[0m",
      "\u001b[0;31mNoBrokersAvailable\u001b[0m                        Traceback (most recent call last)",
      "\u001b[0;32m<ipython-input-68-c42556adef8e>\u001b[0m in \u001b[0;36m<module>\u001b[0;34m\u001b[0m\n\u001b[0;32m----> 1\u001b[0;31m \u001b[0mproducer\u001b[0m \u001b[0;34m=\u001b[0m \u001b[0mKafkaProducer\u001b[0m\u001b[0;34m(\u001b[0m\u001b[0mbootstrap_servers\u001b[0m\u001b[0;34m=\u001b[0m\u001b[0;34m'localhost:0000'\u001b[0m\u001b[0;34m)\u001b[0m\u001b[0;34m\u001b[0m\u001b[0;34m\u001b[0m\u001b[0m\n\u001b[0m\u001b[1;32m      2\u001b[0m \u001b[0;32mtry\u001b[0m\u001b[0;34m:\u001b[0m\u001b[0;34m\u001b[0m\u001b[0;34m\u001b[0m\u001b[0m\n\u001b[1;32m      3\u001b[0m     \u001b[0mproducer\u001b[0m\u001b[0;34m.\u001b[0m\u001b[0msend\u001b[0m\u001b[0;34m(\u001b[0m\u001b[0;34m'bda'\u001b[0m\u001b[0;34m,\u001b[0m \u001b[0mforecasts\u001b[0m\u001b[0;34m)\u001b[0m\u001b[0;34m\u001b[0m\u001b[0;34m\u001b[0m\u001b[0m\n\u001b[1;32m      4\u001b[0m \u001b[0;32mexcept\u001b[0m \u001b[0mKafkaError\u001b[0m\u001b[0;34m:\u001b[0m\u001b[0;34m\u001b[0m\u001b[0;34m\u001b[0m\u001b[0m\n\u001b[1;32m      5\u001b[0m     \u001b[0mlog\u001b[0m\u001b[0;34m.\u001b[0m\u001b[0mexception\u001b[0m\u001b[0;34m(\u001b[0m\u001b[0;34m'Send error'\u001b[0m\u001b[0;34m)\u001b[0m\u001b[0;34m\u001b[0m\u001b[0;34m\u001b[0m\u001b[0m\n",
      "\u001b[0;32m/usr/local/lib/python3.7/site-packages/kafka/producer/kafka.py\u001b[0m in \u001b[0;36m__init__\u001b[0;34m(self, **configs)\u001b[0m\n\u001b[1;32m    381\u001b[0m         client = KafkaClient(metrics=self._metrics, metric_group_prefix='producer',\n\u001b[1;32m    382\u001b[0m                              \u001b[0mwakeup_timeout_ms\u001b[0m\u001b[0;34m=\u001b[0m\u001b[0mself\u001b[0m\u001b[0;34m.\u001b[0m\u001b[0mconfig\u001b[0m\u001b[0;34m[\u001b[0m\u001b[0;34m'max_block_ms'\u001b[0m\u001b[0;34m]\u001b[0m\u001b[0;34m,\u001b[0m\u001b[0;34m\u001b[0m\u001b[0;34m\u001b[0m\u001b[0m\n\u001b[0;32m--> 383\u001b[0;31m                              **self.config)\n\u001b[0m\u001b[1;32m    384\u001b[0m \u001b[0;34m\u001b[0m\u001b[0m\n\u001b[1;32m    385\u001b[0m         \u001b[0;31m# Get auto-discovered version from client if necessary\u001b[0m\u001b[0;34m\u001b[0m\u001b[0;34m\u001b[0m\u001b[0;34m\u001b[0m\u001b[0m\n",
      "\u001b[0;32m/usr/local/lib/python3.7/site-packages/kafka/client_async.py\u001b[0m in \u001b[0;36m__init__\u001b[0;34m(self, **configs)\u001b[0m\n\u001b[1;32m    242\u001b[0m         \u001b[0;32mif\u001b[0m \u001b[0mself\u001b[0m\u001b[0;34m.\u001b[0m\u001b[0mconfig\u001b[0m\u001b[0;34m[\u001b[0m\u001b[0;34m'api_version'\u001b[0m\u001b[0;34m]\u001b[0m \u001b[0;32mis\u001b[0m \u001b[0;32mNone\u001b[0m\u001b[0;34m:\u001b[0m\u001b[0;34m\u001b[0m\u001b[0;34m\u001b[0m\u001b[0m\n\u001b[1;32m    243\u001b[0m             \u001b[0mcheck_timeout\u001b[0m \u001b[0;34m=\u001b[0m \u001b[0mself\u001b[0m\u001b[0;34m.\u001b[0m\u001b[0mconfig\u001b[0m\u001b[0;34m[\u001b[0m\u001b[0;34m'api_version_auto_timeout_ms'\u001b[0m\u001b[0;34m]\u001b[0m \u001b[0;34m/\u001b[0m \u001b[0;36m1000\u001b[0m\u001b[0;34m\u001b[0m\u001b[0;34m\u001b[0m\u001b[0m\n\u001b[0;32m--> 244\u001b[0;31m             \u001b[0mself\u001b[0m\u001b[0;34m.\u001b[0m\u001b[0mconfig\u001b[0m\u001b[0;34m[\u001b[0m\u001b[0;34m'api_version'\u001b[0m\u001b[0;34m]\u001b[0m \u001b[0;34m=\u001b[0m \u001b[0mself\u001b[0m\u001b[0;34m.\u001b[0m\u001b[0mcheck_version\u001b[0m\u001b[0;34m(\u001b[0m\u001b[0mtimeout\u001b[0m\u001b[0;34m=\u001b[0m\u001b[0mcheck_timeout\u001b[0m\u001b[0;34m)\u001b[0m\u001b[0;34m\u001b[0m\u001b[0;34m\u001b[0m\u001b[0m\n\u001b[0m\u001b[1;32m    245\u001b[0m \u001b[0;34m\u001b[0m\u001b[0m\n\u001b[1;32m    246\u001b[0m     \u001b[0;32mdef\u001b[0m \u001b[0m_can_bootstrap\u001b[0m\u001b[0;34m(\u001b[0m\u001b[0mself\u001b[0m\u001b[0;34m)\u001b[0m\u001b[0;34m:\u001b[0m\u001b[0;34m\u001b[0m\u001b[0;34m\u001b[0m\u001b[0m\n",
      "\u001b[0;32m/usr/local/lib/python3.7/site-packages/kafka/client_async.py\u001b[0m in \u001b[0;36mcheck_version\u001b[0;34m(self, node_id, timeout, strict)\u001b[0m\n\u001b[1;32m    898\u001b[0m             \u001b[0;32mif\u001b[0m \u001b[0mtry_node\u001b[0m \u001b[0;32mis\u001b[0m \u001b[0;32mNone\u001b[0m\u001b[0;34m:\u001b[0m\u001b[0;34m\u001b[0m\u001b[0;34m\u001b[0m\u001b[0m\n\u001b[1;32m    899\u001b[0m                 \u001b[0mself\u001b[0m\u001b[0;34m.\u001b[0m\u001b[0m_lock\u001b[0m\u001b[0;34m.\u001b[0m\u001b[0mrelease\u001b[0m\u001b[0;34m(\u001b[0m\u001b[0;34m)\u001b[0m\u001b[0;34m\u001b[0m\u001b[0;34m\u001b[0m\u001b[0m\n\u001b[0;32m--> 900\u001b[0;31m                 \u001b[0;32mraise\u001b[0m \u001b[0mErrors\u001b[0m\u001b[0;34m.\u001b[0m\u001b[0mNoBrokersAvailable\u001b[0m\u001b[0;34m(\u001b[0m\u001b[0;34m)\u001b[0m\u001b[0;34m\u001b[0m\u001b[0;34m\u001b[0m\u001b[0m\n\u001b[0m\u001b[1;32m    901\u001b[0m             \u001b[0mself\u001b[0m\u001b[0;34m.\u001b[0m\u001b[0m_maybe_connect\u001b[0m\u001b[0;34m(\u001b[0m\u001b[0mtry_node\u001b[0m\u001b[0;34m)\u001b[0m\u001b[0;34m\u001b[0m\u001b[0;34m\u001b[0m\u001b[0m\n\u001b[1;32m    902\u001b[0m             \u001b[0mconn\u001b[0m \u001b[0;34m=\u001b[0m \u001b[0mself\u001b[0m\u001b[0;34m.\u001b[0m\u001b[0m_conns\u001b[0m\u001b[0;34m[\u001b[0m\u001b[0mtry_node\u001b[0m\u001b[0;34m]\u001b[0m\u001b[0;34m\u001b[0m\u001b[0;34m\u001b[0m\u001b[0m\n",
      "\u001b[0;31mNoBrokersAvailable\u001b[0m: NoBrokersAvailable"
     ]
    }
   ],
   "execution_count": 68
  },
  {
   "cell_type": "code",
   "source": "",
   "metadata": {
    "tags": [],
    "cell_id": "00006-16aae120-aa77-4069-922b-757e795a0193",
    "deepnote_cell_type": "code"
   },
   "outputs": [],
   "execution_count": null
  },
  {
   "cell_type": "code",
   "source": "",
   "metadata": {
    "tags": [],
    "cell_id": "00006-d0540e79-3ee6-467c-a7f7-a88c928c9687",
    "deepnote_cell_type": "code"
   },
   "outputs": [],
   "execution_count": null
  },
  {
   "cell_type": "markdown",
   "source": "<a style='text-decoration:none;line-height:16px;display:flex;color:#5B5B62;padding:10px;justify-content:end;' href='https://deepnote.com?utm_source=created-in-deepnote-cell&projectId=fa73dd04-f36c-4056-b6c3-896407612102' target=\"_blank\">\n<img alt='Created in deepnote.com' style='display:inline;max-height:16px;margin:0px;margin-right:7.5px;' src='data:image/svg+xml;base64,PD94bWwgdmVyc2lvbj0iMS4wIiBlbmNvZGluZz0iVVRGLTgiPz4KPHN2ZyB3aWR0aD0iODBweCIgaGVpZ2h0PSI4MHB4IiB2aWV3Qm94PSIwIDAgODAgODAiIHZlcnNpb249IjEuMSIgeG1sbnM9Imh0dHA6Ly93d3cudzMub3JnLzIwMDAvc3ZnIiB4bWxuczp4bGluaz0iaHR0cDovL3d3dy53My5vcmcvMTk5OS94bGluayI+CiAgICA8IS0tIEdlbmVyYXRvcjogU2tldGNoIDU0LjEgKDc2NDkwKSAtIGh0dHBzOi8vc2tldGNoYXBwLmNvbSAtLT4KICAgIDx0aXRsZT5Hcm91cCAzPC90aXRsZT4KICAgIDxkZXNjPkNyZWF0ZWQgd2l0aCBTa2V0Y2guPC9kZXNjPgogICAgPGcgaWQ9IkxhbmRpbmciIHN0cm9rZT0ibm9uZSIgc3Ryb2tlLXdpZHRoPSIxIiBmaWxsPSJub25lIiBmaWxsLXJ1bGU9ImV2ZW5vZGQiPgogICAgICAgIDxnIGlkPSJBcnRib2FyZCIgdHJhbnNmb3JtPSJ0cmFuc2xhdGUoLTEyMzUuMDAwMDAwLCAtNzkuMDAwMDAwKSI+CiAgICAgICAgICAgIDxnIGlkPSJHcm91cC0zIiB0cmFuc2Zvcm09InRyYW5zbGF0ZSgxMjM1LjAwMDAwMCwgNzkuMDAwMDAwKSI+CiAgICAgICAgICAgICAgICA8cG9seWdvbiBpZD0iUGF0aC0yMCIgZmlsbD0iIzAyNjVCNCIgcG9pbnRzPSIyLjM3NjIzNzYyIDgwIDM4LjA0NzY2NjcgODAgNTcuODIxNzgyMiA3My44MDU3NTkyIDU3LjgyMTc4MjIgMzIuNzU5MjczOSAzOS4xNDAyMjc4IDMxLjY4MzE2ODMiPjwvcG9seWdvbj4KICAgICAgICAgICAgICAgIDxwYXRoIGQ9Ik0zNS4wMDc3MTgsODAgQzQyLjkwNjIwMDcsNzYuNDU0OTM1OCA0Ny41NjQ5MTY3LDcxLjU0MjI2NzEgNDguOTgzODY2LDY1LjI2MTk5MzkgQzUxLjExMjI4OTksNTUuODQxNTg0MiA0MS42NzcxNzk1LDQ5LjIxMjIyODQgMjUuNjIzOTg0Niw0OS4yMTIyMjg0IEMyNS40ODQ5Mjg5LDQ5LjEyNjg0NDggMjkuODI2MTI5Niw0My4yODM4MjQ4IDM4LjY0NzU4NjksMzEuNjgzMTY4MyBMNzIuODcxMjg3MSwzMi41NTQ0MjUgTDY1LjI4MDk3Myw2Ny42NzYzNDIxIEw1MS4xMTIyODk5LDc3LjM3NjE0NCBMMzUuMDA3NzE4LDgwIFoiIGlkPSJQYXRoLTIyIiBmaWxsPSIjMDAyODY4Ij48L3BhdGg+CiAgICAgICAgICAgICAgICA8cGF0aCBkPSJNMCwzNy43MzA0NDA1IEwyNy4xMTQ1MzcsMC4yNTcxMTE0MzYgQzYyLjM3MTUxMjMsLTEuOTkwNzE3MDEgODAsMTAuNTAwMzkyNyA4MCwzNy43MzA0NDA1IEM4MCw2NC45NjA0ODgyIDY0Ljc3NjUwMzgsNzkuMDUwMzQxNCAzNC4zMjk1MTEzLDgwIEM0Ny4wNTUzNDg5LDc3LjU2NzA4MDggNTMuNDE4MjY3Nyw3MC4zMTM2MTAzIDUzLjQxODI2NzcsNTguMjM5NTg4NSBDNTMuNDE4MjY3Nyw0MC4xMjg1NTU3IDM2LjMwMzk1NDQsMzcuNzMwNDQwNSAyNS4yMjc0MTcsMzcuNzMwNDQwNSBDMTcuODQzMDU4NiwzNy43MzA0NDA1IDkuNDMzOTE5NjYsMzcuNzMwNDQwNSAwLDM3LjczMDQ0MDUgWiIgaWQ9IlBhdGgtMTkiIGZpbGw9IiMzNzkzRUYiPjwvcGF0aD4KICAgICAgICAgICAgPC9nPgogICAgICAgIDwvZz4KICAgIDwvZz4KPC9zdmc+' > </img>\nCreated in <span style='font-weight:600;margin-left:4px;'>Deepnote</span></a>",
   "metadata": {
    "tags": [],
    "created_in_deepnote_cell": true,
    "deepnote_cell_type": "markdown"
   }
  }
 ],
 "nbformat": 4,
 "nbformat_minor": 2,
 "metadata": {
  "orig_nbformat": 2,
  "deepnote": {
   "is_reactive": false
  },
  "deepnote_notebook_id": "d8cf527f-ec81-4b3f-97d3-05ebf9f30bac",
  "deepnote_execution_queue": []
 }
}