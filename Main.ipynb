{
 "cells": [
  {
   "cell_type": "markdown",
   "source": "# Weather forecast and actual weather\n\nUsing the API, we try to compare the weather forecast of last week with the actual weather occuring on the specific date.\nTherefore we use the OpenWeather-API to retreive all necessary information.",
   "metadata": {
    "tags": [],
    "cell_id": "00000-f83569ee-fbc9-4f21-b443-2396e6a05747",
    "deepnote_cell_type": "markdown"
   }
  },
  {
   "cell_type": "code",
   "metadata": {
    "tags": [],
    "cell_id": "00001-4bd4557a-dbe7-49f2-b8db-aa90b6f42a37",
    "deepnote_to_be_reexecuted": false,
    "source_hash": "ac432662",
    "execution_start": 1635594824076,
    "execution_millis": 277,
    "deepnote_cell_type": "code"
   },
   "source": "%run Functions.ipynb import *",
   "outputs": [],
   "execution_count": 25
  },
  {
   "cell_type": "code",
   "metadata": {
    "tags": [],
    "cell_id": "00000-e600ea9d-e447-42cc-81fc-41a2a6996b40",
    "deepnote_to_be_reexecuted": false,
    "source_hash": "7b507dd7",
    "execution_start": 1635594672860,
    "execution_millis": 3,
    "deepnote_cell_type": "code"
   },
   "source": "import requests\nimport datetime\n\nAPI_KEY = 'fac9ad607136e9c0f991980b5cd58ed7'",
   "outputs": [],
   "execution_count": 21
  },
  {
   "cell_type": "code",
   "metadata": {
    "tags": [],
    "cell_id": "00000-b57fcf2f-5f79-4200-b69e-5c50747ccb24",
    "deepnote_to_be_reexecuted": false,
    "source_hash": "d1956d12",
    "execution_start": 1635594297856,
    "execution_millis": 65,
    "deepnote_cell_type": "code"
   },
   "source": "url = 'https://api.openweathermap.org/data/2.5/onecall'\nresponse = requests.get(url, params={\n    'lat': 49.4875,\n    'lon': 8.4660,\n    'exclude': 'minutely,hourly,alerts',\n    'appid': API_KEY\n})",
   "outputs": [
    {
     "output_type": "execute_result",
     "execution_count": 19,
     "data": {
      "text/plain": "{'lat': 49.4875,\n 'lon': 8.466,\n 'timezone': 'Europe/Berlin',\n 'timezone_offset': 7200,\n 'current': {'dt': 1635594257,\n  'sunrise': 1635574274,\n  'sunset': 1635610090,\n  'temp': 280.81,\n  'feels_like': 279.56,\n  'pressure': 1008,\n  'humidity': 93,\n  'dew_point': 279.75,\n  'uvi': 0.51,\n  'clouds': 75,\n  'visibility': 4500,\n  'wind_speed': 2.06,\n  'wind_deg': 230,\n  'weather': [{'id': 500,\n    'main': 'Rain',\n    'description': 'light rain',\n    'icon': '10d'},\n   {'id': 701, 'main': 'Mist', 'description': 'mist', 'icon': '50d'}],\n  'rain': {'1h': 0.43}},\n 'daily': [{'dt': 1635591600,\n   'sunrise': 1635574274,\n   'sunset': 1635610090,\n   'moonrise': 1635547680,\n   'moonset': 1635603660,\n   'moon_phase': 0.8,\n   'temp': {'day': 281.51,\n    'min': 280.81,\n    'max': 283.32,\n    'night': 283.14,\n    'eve': 282.95,\n    'morn': 281.93},\n   'feels_like': {'day': 281.51,\n    'night': 281.71,\n    'eve': 281.45,\n    'morn': 281.93},\n   'pressure': 1008,\n   'humidity': 85,\n   'dew_point': 279.14,\n   'wind_speed': 3.38,\n   'wind_deg': 161,\n   'wind_gust': 10.51,\n   'weather': [{'id': 500,\n     'main': 'Rain',\n     'description': 'light rain',\n     'icon': '10d'}],\n   'clouds': 80,\n   'pop': 0.9,\n   'rain': 1.56,\n   'uvi': 0.52},\n  {'dt': 1635678000,\n   'sunrise': 1635660773,\n   'sunset': 1635696388,\n   'moonrise': 1635638580,\n   'moonset': 1635691320,\n   'moon_phase': 0.84,\n   'temp': {'day': 288.82,\n    'min': 283.28,\n    'max': 290.8,\n    'night': 285.78,\n    'eve': 287.9,\n    'morn': 284.33},\n   'feels_like': {'day': 288.06,\n    'night': 285.03,\n    'eve': 287.18,\n    'morn': 283.64},\n   'pressure': 1009,\n   'humidity': 62,\n   'dew_point': 281.54,\n   'wind_speed': 2.96,\n   'wind_deg': 166,\n   'wind_gust': 9.84,\n   'weather': [{'id': 804,\n     'main': 'Clouds',\n     'description': 'overcast clouds',\n     'icon': '04d'}],\n   'clouds': 91,\n   'pop': 0.09,\n   'uvi': 1.25},\n  {'dt': 1635764400,\n   'sunrise': 1635747271,\n   'sunset': 1635782687,\n   'moonrise': 1635729600,\n   'moonset': 1635778860,\n   'moon_phase': 0.87,\n   'temp': {'day': 284.89,\n    'min': 282.74,\n    'max': 286,\n    'night': 282.74,\n    'eve': 283.8,\n    'morn': 285.56},\n   'feels_like': {'day': 283.9,\n    'night': 281.43,\n    'eve': 283.06,\n    'morn': 285.13},\n   'pressure': 1005,\n   'humidity': 68,\n   'dew_point': 279.18,\n   'wind_speed': 4.79,\n   'wind_deg': 238,\n   'wind_gust': 11.82,\n   'weather': [{'id': 500,\n     'main': 'Rain',\n     'description': 'light rain',\n     'icon': '10d'}],\n   'clouds': 100,\n   'pop': 1,\n   'rain': 2.66,\n   'uvi': 1.27},\n  {'dt': 1635850800,\n   'sunrise': 1635833770,\n   'sunset': 1635868988,\n   'moonrise': 1635820800,\n   'moonset': 1635866280,\n   'moon_phase': 0.91,\n   'temp': {'day': 282.51,\n    'min': 281.33,\n    'max': 282.77,\n    'night': 282.28,\n    'eve': 282.44,\n    'morn': 281.33},\n   'feels_like': {'day': 280.86,\n    'night': 279.52,\n    'eve': 280.15,\n    'morn': 279.94},\n   'pressure': 1002,\n   'humidity': 79,\n   'dew_point': 278.9,\n   'wind_speed': 5.34,\n   'wind_deg': 223,\n   'wind_gust': 12.12,\n   'weather': [{'id': 500,\n     'main': 'Rain',\n     'description': 'light rain',\n     'icon': '10d'}],\n   'clouds': 99,\n   'pop': 1,\n   'rain': 2.78,\n   'uvi': 0.37},\n  {'dt': 1635937200,\n   'sunrise': 1635920268,\n   'sunset': 1635955290,\n   'moonrise': 1635912060,\n   'moonset': 1635953820,\n   'moon_phase': 0.94,\n   'temp': {'day': 283.61,\n    'min': 281.49,\n    'max': 283.99,\n    'night': 281.49,\n    'eve': 282.11,\n    'morn': 281.54},\n   'feels_like': {'day': 282.38,\n    'night': 281.49,\n    'eve': 282.11,\n    'morn': 279.79},\n   'pressure': 1007,\n   'humidity': 64,\n   'dew_point': 276.95,\n   'wind_speed': 4.3,\n   'wind_deg': 242,\n   'wind_gust': 9.73,\n   'weather': [{'id': 804,\n     'main': 'Clouds',\n     'description': 'overcast clouds',\n     'icon': '04d'}],\n   'clouds': 100,\n   'pop': 0.36,\n   'uvi': 0.74},\n  {'dt': 1636023600,\n   'sunrise': 1636006767,\n   'sunset': 1636041595,\n   'moonrise': 1636003560,\n   'moonset': 1636041480,\n   'moon_phase': 0,\n   'temp': {'day': 283.67,\n    'min': 279.36,\n    'max': 283.67,\n    'night': 280.78,\n    'eve': 282.14,\n    'morn': 279.36},\n   'feels_like': {'day': 282.21,\n    'night': 279.16,\n    'eve': 280.28,\n    'morn': 277.81},\n   'pressure': 1009,\n   'humidity': 55,\n   'dew_point': 274.81,\n   'wind_speed': 4.09,\n   'wind_deg': 4,\n   'wind_gust': 7.98,\n   'weather': [{'id': 804,\n     'main': 'Clouds',\n     'description': 'overcast clouds',\n     'icon': '04d'}],\n   'clouds': 100,\n   'pop': 0,\n   'uvi': 1},\n  {'dt': 1636110000,\n   'sunrise': 1636093266,\n   'sunset': 1636127900,\n   'moonrise': 1636095240,\n   'moonset': 1636129440,\n   'moon_phase': 0.02,\n   'temp': {'day': 282.39,\n    'min': 279.09,\n    'max': 282.39,\n    'night': 279.4,\n    'eve': 280.42,\n    'morn': 279.09},\n   'feels_like': {'day': 281.76,\n    'night': 279.4,\n    'eve': 280.42,\n    'morn': 279.09},\n   'pressure': 1023,\n   'humidity': 63,\n   'dew_point': 275.6,\n   'wind_speed': 1.85,\n   'wind_deg': 334,\n   'wind_gust': 4.35,\n   'weather': [{'id': 804,\n     'main': 'Clouds',\n     'description': 'overcast clouds',\n     'icon': '04d'}],\n   'clouds': 100,\n   'pop': 0,\n   'uvi': 1},\n  {'dt': 1636196400,\n   'sunrise': 1636179765,\n   'sunset': 1636214208,\n   'moonrise': 1636187040,\n   'moonset': 1636217760,\n   'moon_phase': 0.06,\n   'temp': {'day': 283.13,\n    'min': 277.28,\n    'max': 283.3,\n    'night': 279.06,\n    'eve': 280.3,\n    'morn': 277.28},\n   'feels_like': {'day': 282.82,\n    'night': 278.17,\n    'eve': 279.53,\n    'morn': 277.28},\n   'pressure': 1026,\n   'humidity': 55,\n   'dew_point': 274.5,\n   'wind_speed': 1.9,\n   'wind_deg': 20,\n   'wind_gust': 3.54,\n   'weather': [{'id': 800,\n     'main': 'Clear',\n     'description': 'clear sky',\n     'icon': '01d'}],\n   'clouds': 1,\n   'pop': 0,\n   'uvi': 1}]}"
     },
     "metadata": {}
    }
   ],
   "execution_count": 19
  },
  {
   "cell_type": "code",
   "metadata": {
    "tags": [],
    "cell_id": "00002-c536e0eb-2df9-41c0-85b7-3c6bb59a22cd",
    "deepnote_to_be_reexecuted": false,
    "source_hash": "b50181a1",
    "execution_start": 1635595155104,
    "execution_millis": 4,
    "deepnote_cell_type": "code"
   },
   "source": "json = response.json()\n\nforecast = [\n    {\n        'date': datetime.datetime.fromtimestamp(daily_forecast['dt']),\n        'temp': kelvin_to_celsius(daily_forecast['temp']['day']),\n        'rain': daily_forecast['rain'] if 'rain' in daily_forecast else 0,\n        'snow': daily_forecast['snow'] if 'snow' in daily_forecast else 0,\n        'clouds': daily_forecast['clouds'],\n        'wind_speed': daily_forecast['wind_speed']\n    }\n    for daily_forecast in json['daily']\n]\n\nforecast",
   "outputs": [
    {
     "output_type": "execute_result",
     "execution_count": 30,
     "data": {
      "text/plain": "[{'date': datetime.datetime(2021, 10, 30, 11, 0),\n  'temp': 8.360000000000014,\n  'rain': 1.56,\n  'snow': 0,\n  'clouds': 80,\n  'wind_speed': 3.38},\n {'date': datetime.datetime(2021, 10, 31, 11, 0),\n  'temp': 15.670000000000016,\n  'rain': 0,\n  'snow': 0,\n  'clouds': 91,\n  'wind_speed': 2.96},\n {'date': datetime.datetime(2021, 11, 1, 11, 0),\n  'temp': 11.740000000000009,\n  'rain': 2.66,\n  'snow': 0,\n  'clouds': 100,\n  'wind_speed': 4.79},\n {'date': datetime.datetime(2021, 11, 2, 11, 0),\n  'temp': 9.360000000000014,\n  'rain': 2.78,\n  'snow': 0,\n  'clouds': 99,\n  'wind_speed': 5.34},\n {'date': datetime.datetime(2021, 11, 3, 11, 0),\n  'temp': 10.460000000000036,\n  'rain': 0,\n  'snow': 0,\n  'clouds': 100,\n  'wind_speed': 4.3},\n {'date': datetime.datetime(2021, 11, 4, 11, 0),\n  'temp': 10.520000000000039,\n  'rain': 0,\n  'snow': 0,\n  'clouds': 100,\n  'wind_speed': 4.09},\n {'date': datetime.datetime(2021, 11, 5, 11, 0),\n  'temp': 9.240000000000009,\n  'rain': 0,\n  'snow': 0,\n  'clouds': 100,\n  'wind_speed': 1.85},\n {'date': datetime.datetime(2021, 11, 6, 11, 0),\n  'temp': 9.980000000000018,\n  'rain': 0,\n  'snow': 0,\n  'clouds': 1,\n  'wind_speed': 1.9}]"
     },
     "metadata": {}
    }
   ],
   "execution_count": 30
  },
  {
   "cell_type": "code",
   "metadata": {
    "tags": [],
    "cell_id": "00001-8aa4b742-098f-4119-848b-f5526e2829ed",
    "deepnote_cell_type": "code"
   },
   "source": "",
   "outputs": [],
   "execution_count": null
  },
  {
   "cell_type": "markdown",
   "source": "<a style='text-decoration:none;line-height:16px;display:flex;color:#5B5B62;padding:10px;justify-content:end;' href='https://deepnote.com?utm_source=created-in-deepnote-cell&projectId=fa73dd04-f36c-4056-b6c3-896407612102' target=\"_blank\">\n<img alt='Created in deepnote.com' style='display:inline;max-height:16px;margin:0px;margin-right:7.5px;' src='data:image/svg+xml;base64,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' > </img>\nCreated in <span style='font-weight:600;margin-left:4px;'>Deepnote</span></a>",
   "metadata": {
    "tags": [],
    "created_in_deepnote_cell": true,
    "deepnote_cell_type": "markdown"
   }
  }
 ],
 "nbformat": 4,
 "nbformat_minor": 2,
 "metadata": {
  "orig_nbformat": 2,
  "deepnote": {
   "is_reactive": false
  },
  "deepnote_notebook_id": "d8cf527f-ec81-4b3f-97d3-05ebf9f30bac",
  "deepnote_execution_queue": []
 }
}