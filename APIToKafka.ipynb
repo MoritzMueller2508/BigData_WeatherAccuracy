{
 "cells": [
  {
   "cell_type": "markdown",
   "source": "# Weather forecast and actual weather\n\nUsing the API, we try to compare the weather forecast of last week with the actual weather occuring on that date.\nFor this purpose, we use the OpenWeather API to retrieve all necessary information.",
   "metadata": {
    "tags": [],
    "cell_id": "00000-f83569ee-fbc9-4f21-b443-2396e6a05747",
    "deepnote_cell_type": "markdown"
   }
  },
  {
   "cell_type": "code",
   "metadata": {
    "tags": [],
    "cell_id": "00001-4bd4557a-dbe7-49f2-b8db-aa90b6f42a37",
    "deepnote_to_be_reexecuted": false,
    "source_hash": "bcd3ffec",
    "execution_start": 1636476476801,
    "execution_millis": 6441,
    "deepnote_cell_type": "code"
   },
   "source": "%pip install kafka-python\n%run Functions.ipynb import *",
   "outputs": [
    {
     "name": "stdout",
     "text": "^C\n\u001b[31mERROR: Operation cancelled by user\u001b[0m\nNote: you may need to restart the kernel to use updated packages.\n",
     "output_type": "stream"
    },
    {
     "output_type": "error",
     "ename": "Exception",
     "evalue": "File `'Functions.ipynb.py'` not found.",
     "traceback": [
      "\u001b[0;31m---------------------------------------------------------------------------\u001b[0m",
      "\u001b[0;31mOSError\u001b[0m                                   Traceback (most recent call last)",
      "\u001b[0;32m/shared-libs/python3.7/py-core/lib/python3.7/site-packages/IPython/core/magics/execution.py\u001b[0m in \u001b[0;36mrun\u001b[0;34m(self, parameter_s, runner, file_finder)\u001b[0m\n\u001b[1;32m    702\u001b[0m             \u001b[0mfpath\u001b[0m \u001b[0;34m=\u001b[0m \u001b[0marg_lst\u001b[0m\u001b[0;34m[\u001b[0m\u001b[0;36m0\u001b[0m\u001b[0;34m]\u001b[0m\u001b[0;34m\u001b[0m\u001b[0;34m\u001b[0m\u001b[0m\n\u001b[0;32m--> 703\u001b[0;31m             \u001b[0mfilename\u001b[0m \u001b[0;34m=\u001b[0m \u001b[0mfile_finder\u001b[0m\u001b[0;34m(\u001b[0m\u001b[0mfpath\u001b[0m\u001b[0;34m)\u001b[0m\u001b[0;34m\u001b[0m\u001b[0;34m\u001b[0m\u001b[0m\n\u001b[0m\u001b[1;32m    704\u001b[0m         \u001b[0;32mexcept\u001b[0m \u001b[0mIndexError\u001b[0m\u001b[0;34m:\u001b[0m\u001b[0;34m\u001b[0m\u001b[0;34m\u001b[0m\u001b[0m\n",
      "\u001b[0;32m/shared-libs/python3.7/py-core/lib/python3.7/site-packages/IPython/utils/path.py\u001b[0m in \u001b[0;36mget_py_filename\u001b[0;34m(name, force_win32)\u001b[0m\n\u001b[1;32m    108\u001b[0m     \u001b[0;32melse\u001b[0m\u001b[0;34m:\u001b[0m\u001b[0;34m\u001b[0m\u001b[0;34m\u001b[0m\u001b[0m\n\u001b[0;32m--> 109\u001b[0;31m         \u001b[0;32mraise\u001b[0m \u001b[0mIOError\u001b[0m\u001b[0;34m(\u001b[0m\u001b[0;34m'File `%r` not found.'\u001b[0m \u001b[0;34m%\u001b[0m \u001b[0mname\u001b[0m\u001b[0;34m)\u001b[0m\u001b[0;34m\u001b[0m\u001b[0;34m\u001b[0m\u001b[0m\n\u001b[0m\u001b[1;32m    110\u001b[0m \u001b[0;34m\u001b[0m\u001b[0m\n",
      "\u001b[0;31mOSError\u001b[0m: File `'Functions.ipynb.py'` not found.",
      "\nDuring handling of the above exception, another exception occurred:\n",
      "\u001b[0;31mException\u001b[0m                                 Traceback (most recent call last)",
      "\u001b[0;32m<ipython-input-1-233206fae4f7>\u001b[0m in \u001b[0;36m<module>\u001b[0;34m\u001b[0m\n\u001b[1;32m      1\u001b[0m \u001b[0mget_ipython\u001b[0m\u001b[0;34m(\u001b[0m\u001b[0;34m)\u001b[0m\u001b[0;34m.\u001b[0m\u001b[0mrun_line_magic\u001b[0m\u001b[0;34m(\u001b[0m\u001b[0;34m'pip'\u001b[0m\u001b[0;34m,\u001b[0m \u001b[0;34m'install kafka-python'\u001b[0m\u001b[0;34m)\u001b[0m\u001b[0;34m\u001b[0m\u001b[0;34m\u001b[0m\u001b[0m\n\u001b[0;32m----> 2\u001b[0;31m \u001b[0mget_ipython\u001b[0m\u001b[0;34m(\u001b[0m\u001b[0;34m)\u001b[0m\u001b[0;34m.\u001b[0m\u001b[0mrun_line_magic\u001b[0m\u001b[0;34m(\u001b[0m\u001b[0;34m'run'\u001b[0m\u001b[0;34m,\u001b[0m \u001b[0;34m'Functions.ipynb import *'\u001b[0m\u001b[0;34m)\u001b[0m\u001b[0;34m\u001b[0m\u001b[0;34m\u001b[0m\u001b[0m\n\u001b[0m",
      "\u001b[0;32m/shared-libs/python3.7/py-core/lib/python3.7/site-packages/IPython/core/interactiveshell.py\u001b[0m in \u001b[0;36mrun_line_magic\u001b[0;34m(self, magic_name, line, _stack_depth)\u001b[0m\n\u001b[1;32m   2349\u001b[0m                 \u001b[0mkwargs\u001b[0m\u001b[0;34m[\u001b[0m\u001b[0;34m'local_ns'\u001b[0m\u001b[0;34m]\u001b[0m \u001b[0;34m=\u001b[0m \u001b[0mself\u001b[0m\u001b[0;34m.\u001b[0m\u001b[0mget_local_scope\u001b[0m\u001b[0;34m(\u001b[0m\u001b[0mstack_depth\u001b[0m\u001b[0;34m)\u001b[0m\u001b[0;34m\u001b[0m\u001b[0;34m\u001b[0m\u001b[0m\n\u001b[1;32m   2350\u001b[0m             \u001b[0;32mwith\u001b[0m \u001b[0mself\u001b[0m\u001b[0;34m.\u001b[0m\u001b[0mbuiltin_trap\u001b[0m\u001b[0;34m:\u001b[0m\u001b[0;34m\u001b[0m\u001b[0;34m\u001b[0m\u001b[0m\n\u001b[0;32m-> 2351\u001b[0;31m                 \u001b[0mresult\u001b[0m \u001b[0;34m=\u001b[0m \u001b[0mfn\u001b[0m\u001b[0;34m(\u001b[0m\u001b[0;34m*\u001b[0m\u001b[0margs\u001b[0m\u001b[0;34m,\u001b[0m \u001b[0;34m**\u001b[0m\u001b[0mkwargs\u001b[0m\u001b[0;34m)\u001b[0m\u001b[0;34m\u001b[0m\u001b[0;34m\u001b[0m\u001b[0m\n\u001b[0m\u001b[1;32m   2352\u001b[0m             \u001b[0;32mreturn\u001b[0m \u001b[0mresult\u001b[0m\u001b[0;34m\u001b[0m\u001b[0;34m\u001b[0m\u001b[0m\n\u001b[1;32m   2353\u001b[0m \u001b[0;34m\u001b[0m\u001b[0m\n",
      "\u001b[0;32m/shared-libs/python3.7/py-core/lib/python3.7/site-packages/decorator.py\u001b[0m in \u001b[0;36mfun\u001b[0;34m(*args, **kw)\u001b[0m\n\u001b[1;32m    230\u001b[0m             \u001b[0;32mif\u001b[0m \u001b[0;32mnot\u001b[0m \u001b[0mkwsyntax\u001b[0m\u001b[0;34m:\u001b[0m\u001b[0;34m\u001b[0m\u001b[0;34m\u001b[0m\u001b[0m\n\u001b[1;32m    231\u001b[0m                 \u001b[0margs\u001b[0m\u001b[0;34m,\u001b[0m \u001b[0mkw\u001b[0m \u001b[0;34m=\u001b[0m \u001b[0mfix\u001b[0m\u001b[0;34m(\u001b[0m\u001b[0margs\u001b[0m\u001b[0;34m,\u001b[0m \u001b[0mkw\u001b[0m\u001b[0;34m,\u001b[0m \u001b[0msig\u001b[0m\u001b[0;34m)\u001b[0m\u001b[0;34m\u001b[0m\u001b[0;34m\u001b[0m\u001b[0m\n\u001b[0;32m--> 232\u001b[0;31m             \u001b[0;32mreturn\u001b[0m \u001b[0mcaller\u001b[0m\u001b[0;34m(\u001b[0m\u001b[0mfunc\u001b[0m\u001b[0;34m,\u001b[0m \u001b[0;34m*\u001b[0m\u001b[0;34m(\u001b[0m\u001b[0mextras\u001b[0m \u001b[0;34m+\u001b[0m \u001b[0margs\u001b[0m\u001b[0;34m)\u001b[0m\u001b[0;34m,\u001b[0m \u001b[0;34m**\u001b[0m\u001b[0mkw\u001b[0m\u001b[0;34m)\u001b[0m\u001b[0;34m\u001b[0m\u001b[0;34m\u001b[0m\u001b[0m\n\u001b[0m\u001b[1;32m    233\u001b[0m     \u001b[0mfun\u001b[0m\u001b[0;34m.\u001b[0m\u001b[0m__name__\u001b[0m \u001b[0;34m=\u001b[0m \u001b[0mfunc\u001b[0m\u001b[0;34m.\u001b[0m\u001b[0m__name__\u001b[0m\u001b[0;34m\u001b[0m\u001b[0;34m\u001b[0m\u001b[0m\n\u001b[1;32m    234\u001b[0m     \u001b[0mfun\u001b[0m\u001b[0;34m.\u001b[0m\u001b[0m__doc__\u001b[0m \u001b[0;34m=\u001b[0m \u001b[0mfunc\u001b[0m\u001b[0;34m.\u001b[0m\u001b[0m__doc__\u001b[0m\u001b[0;34m\u001b[0m\u001b[0;34m\u001b[0m\u001b[0m\n",
      "\u001b[0;32m/shared-libs/python3.7/py-core/lib/python3.7/site-packages/IPython/core/magic.py\u001b[0m in \u001b[0;36m<lambda>\u001b[0;34m(f, *a, **k)\u001b[0m\n\u001b[1;32m    185\u001b[0m     \u001b[0;31m# but it's overkill for just that one bit of state.\u001b[0m\u001b[0;34m\u001b[0m\u001b[0;34m\u001b[0m\u001b[0;34m\u001b[0m\u001b[0m\n\u001b[1;32m    186\u001b[0m     \u001b[0;32mdef\u001b[0m \u001b[0mmagic_deco\u001b[0m\u001b[0;34m(\u001b[0m\u001b[0marg\u001b[0m\u001b[0;34m)\u001b[0m\u001b[0;34m:\u001b[0m\u001b[0;34m\u001b[0m\u001b[0;34m\u001b[0m\u001b[0m\n\u001b[0;32m--> 187\u001b[0;31m         \u001b[0mcall\u001b[0m \u001b[0;34m=\u001b[0m \u001b[0;32mlambda\u001b[0m \u001b[0mf\u001b[0m\u001b[0;34m,\u001b[0m \u001b[0;34m*\u001b[0m\u001b[0ma\u001b[0m\u001b[0;34m,\u001b[0m \u001b[0;34m**\u001b[0m\u001b[0mk\u001b[0m\u001b[0;34m:\u001b[0m \u001b[0mf\u001b[0m\u001b[0;34m(\u001b[0m\u001b[0;34m*\u001b[0m\u001b[0ma\u001b[0m\u001b[0;34m,\u001b[0m \u001b[0;34m**\u001b[0m\u001b[0mk\u001b[0m\u001b[0;34m)\u001b[0m\u001b[0;34m\u001b[0m\u001b[0;34m\u001b[0m\u001b[0m\n\u001b[0m\u001b[1;32m    188\u001b[0m \u001b[0;34m\u001b[0m\u001b[0m\n\u001b[1;32m    189\u001b[0m         \u001b[0;32mif\u001b[0m \u001b[0mcallable\u001b[0m\u001b[0;34m(\u001b[0m\u001b[0marg\u001b[0m\u001b[0;34m)\u001b[0m\u001b[0;34m:\u001b[0m\u001b[0;34m\u001b[0m\u001b[0;34m\u001b[0m\u001b[0m\n",
      "\u001b[0;32m/shared-libs/python3.7/py-core/lib/python3.7/site-packages/IPython/core/magics/execution.py\u001b[0m in \u001b[0;36mrun\u001b[0;34m(self, parameter_s, runner, file_finder)\u001b[0m\n\u001b[1;32m    712\u001b[0m             \u001b[0;32mif\u001b[0m \u001b[0mos\u001b[0m\u001b[0;34m.\u001b[0m\u001b[0mname\u001b[0m \u001b[0;34m==\u001b[0m \u001b[0;34m'nt'\u001b[0m \u001b[0;32mand\u001b[0m \u001b[0mre\u001b[0m\u001b[0;34m.\u001b[0m\u001b[0mmatch\u001b[0m\u001b[0;34m(\u001b[0m\u001b[0;34mr\"^'.*'$\"\u001b[0m\u001b[0;34m,\u001b[0m\u001b[0mfpath\u001b[0m\u001b[0;34m)\u001b[0m\u001b[0;34m:\u001b[0m\u001b[0;34m\u001b[0m\u001b[0;34m\u001b[0m\u001b[0m\n\u001b[1;32m    713\u001b[0m                 \u001b[0mwarn\u001b[0m\u001b[0;34m(\u001b[0m\u001b[0;34m'For Windows, use double quotes to wrap a filename: %run \"mypath\\\\myfile.py\"'\u001b[0m\u001b[0;34m)\u001b[0m\u001b[0;34m\u001b[0m\u001b[0;34m\u001b[0m\u001b[0m\n\u001b[0;32m--> 714\u001b[0;31m             \u001b[0;32mraise\u001b[0m \u001b[0mException\u001b[0m\u001b[0;34m(\u001b[0m\u001b[0mmsg\u001b[0m\u001b[0;34m)\u001b[0m\u001b[0;34m\u001b[0m\u001b[0;34m\u001b[0m\u001b[0m\n\u001b[0m\u001b[1;32m    715\u001b[0m         \u001b[0;32mexcept\u001b[0m \u001b[0mTypeError\u001b[0m\u001b[0;34m:\u001b[0m\u001b[0;34m\u001b[0m\u001b[0;34m\u001b[0m\u001b[0m\n\u001b[1;32m    716\u001b[0m             \u001b[0;32mif\u001b[0m \u001b[0mfpath\u001b[0m \u001b[0;32min\u001b[0m \u001b[0msys\u001b[0m\u001b[0;34m.\u001b[0m\u001b[0mmeta_path\u001b[0m\u001b[0;34m:\u001b[0m\u001b[0;34m\u001b[0m\u001b[0;34m\u001b[0m\u001b[0m\n",
      "\u001b[0;31mException\u001b[0m: File `'Functions.ipynb.py'` not found."
     ]
    }
   ],
   "execution_count": 1
  },
  {
   "cell_type": "markdown",
   "source": "### Setup\nImport required libraries and set up global variables.",
   "metadata": {
    "tags": [],
    "cell_id": "00003-f216ca76-bca2-4b29-a1d2-e09dbb8153b8",
    "deepnote_cell_type": "markdown"
   }
  },
  {
   "cell_type": "code",
   "metadata": {
    "tags": [],
    "cell_id": "00000-e600ea9d-e447-42cc-81fc-41a2a6996b40",
    "deepnote_to_be_reexecuted": true,
    "source_hash": "9f476319",
    "execution_start": 1636470311035,
    "execution_millis": 43,
    "deepnote_cell_type": "code"
   },
   "source": "import requests\nimport datetime\nimport logging as log\nfrom kafka import KafkaProducer\nfrom kafka.errors import KafkaError\n\nAPI_KEY = 'fac9ad607136e9c0f991980b5cd58ed7'",
   "outputs": [],
   "execution_count": null
  },
  {
   "cell_type": "markdown",
   "source": "### Data request\nRequest weather forecast data from the OpenWeather API for Mannheim, Germany (located at 49.4875, 8.4660).",
   "metadata": {
    "tags": [],
    "cell_id": "00003-e3b6ab1c-18d3-4763-b56b-36dfd8760532",
    "deepnote_cell_type": "markdown"
   }
  },
  {
   "cell_type": "code",
   "metadata": {
    "tags": [],
    "cell_id": "00000-b57fcf2f-5f79-4200-b69e-5c50747ccb24",
    "deepnote_to_be_reexecuted": true,
    "source_hash": "439a77ab",
    "execution_start": 1636470311100,
    "execution_millis": 450,
    "deepnote_cell_type": "code"
   },
   "source": "url = 'https://api.openweathermap.org/data/2.5/onecall'\nresponse = requests.get(url, params={\n    'lat': 49.4875,\n    'lon': 8.4660,\n    'units': 'metric',\n    'exclude': 'current,minutely,hourly,alerts',\n    'appid': API_KEY\n})\n\nresponse.json()",
   "outputs": [
    {
     "output_type": "execute_result",
     "execution_count": 3,
     "data": {
      "text/plain": "{'lat': 49.4875,\n 'lon': 8.466,\n 'timezone': 'Europe/Berlin',\n 'timezone_offset': 3600,\n 'daily': [{'dt': 1636455600,\n   'sunrise': 1636439260,\n   'sunset': 1636473141,\n   'moonrise': 1636459380,\n   'moonset': 1636487340,\n   'moon_phase': 0.18,\n   'temp': {'day': 10.32,\n    'min': 4.93,\n    'max': 10.94,\n    'night': 6,\n    'eve': 9.71,\n    'morn': 5.19},\n   'feels_like': {'day': 8.79, 'night': 6, 'eve': 8.68, 'morn': 5.19},\n   'pressure': 1028,\n   'humidity': 53,\n   'dew_point': 1.17,\n   'wind_speed': 3.6,\n   'wind_deg': 101,\n   'wind_gust': 6.51,\n   'weather': [{'id': 803,\n     'main': 'Clouds',\n     'description': 'broken clouds',\n     'icon': '04d'}],\n   'clouds': 65,\n   'pop': 0,\n   'uvi': 1.16},\n  {'dt': 1636542000,\n   'sunrise': 1636525758,\n   'sunset': 1636559456,\n   'moonrise': 1636548420,\n   'moonset': 1636578360,\n   'moon_phase': 0.21,\n   'temp': {'day': 7.73,\n    'min': 3.94,\n    'max': 8.79,\n    'night': 5.56,\n    'eve': 7.02,\n    'morn': 4.16},\n   'feels_like': {'day': 7.73, 'night': 5.56, 'eve': 7.02, 'morn': 4.16},\n   'pressure': 1026,\n   'humidity': 62,\n   'dew_point': 0.92,\n   'wind_speed': 1.34,\n   'wind_deg': 168,\n   'wind_gust': 2.96,\n   'weather': [{'id': 804,\n     'main': 'Clouds',\n     'description': 'overcast clouds',\n     'icon': '04d'}],\n   'clouds': 100,\n   'pop': 0,\n   'uvi': 1},\n  {'dt': 1636628400,\n   'sunrise': 1636612256,\n   'sunset': 1636645772,\n   'moonrise': 1636636680,\n   'moonset': 1636669500,\n   'moon_phase': 0.25,\n   'temp': {'day': 8.69,\n    'min': 4.04,\n    'max': 10.08,\n    'night': 5.71,\n    'eve': 7.39,\n    'morn': 4.21},\n   'feels_like': {'day': 8.69, 'night': 5.71, 'eve': 6.5, 'morn': 4.21},\n   'pressure': 1026,\n   'humidity': 59,\n   'dew_point': 1,\n   'wind_speed': 1.82,\n   'wind_deg': 353,\n   'wind_gust': 2.61,\n   'weather': [{'id': 800,\n     'main': 'Clear',\n     'description': 'clear sky',\n     'icon': '01d'}],\n   'clouds': 0,\n   'pop': 0,\n   'uvi': 1.08},\n  {'dt': 1636714800,\n   'sunrise': 1636698753,\n   'sunset': 1636732091,\n   'moonrise': 1636724520,\n   'moonset': 0,\n   'moon_phase': 0.28,\n   'temp': {'day': 11.43,\n    'min': 4.32,\n    'max': 11.43,\n    'night': 7.03,\n    'eve': 7.93,\n    'morn': 4.44},\n   'feels_like': {'day': 9.83, 'night': 6.33, 'eve': 6.92, 'morn': 3.31},\n   'pressure': 1022,\n   'humidity': 46,\n   'dew_point': 0.13,\n   'wind_speed': 1.85,\n   'wind_deg': 33,\n   'wind_gust': 3.93,\n   'weather': [{'id': 800,\n     'main': 'Clear',\n     'description': 'clear sky',\n     'icon': '01d'}],\n   'clouds': 3,\n   'pop': 0,\n   'uvi': 1.12},\n  {'dt': 1636801200,\n   'sunrise': 1636785250,\n   'sunset': 1636818412,\n   'moonrise': 1636812060,\n   'moonset': 1636760460,\n   'moon_phase': 0.31,\n   'temp': {'day': 9.85,\n    'min': 4.82,\n    'max': 9.85,\n    'night': 6.74,\n    'eve': 7.72,\n    'morn': 4.82},\n   'feels_like': {'day': 9.85, 'night': 6.04, 'eve': 7.07, 'morn': 4.82},\n   'pressure': 1022,\n   'humidity': 62,\n   'dew_point': 2.76,\n   'wind_speed': 1.48,\n   'wind_deg': 178,\n   'wind_gust': 2.12,\n   'weather': [{'id': 802,\n     'main': 'Clouds',\n     'description': 'scattered clouds',\n     'icon': '03d'}],\n   'clouds': 38,\n   'pop': 0,\n   'uvi': 1.06},\n  {'dt': 1636887600,\n   'sunrise': 1636871747,\n   'sunset': 1636904735,\n   'moonrise': 1636899480,\n   'moonset': 1636851300,\n   'moon_phase': 0.35,\n   'temp': {'day': 10.73,\n    'min': 6.6,\n    'max': 10.73,\n    'night': 7.98,\n    'eve': 8.33,\n    'morn': 7.49},\n   'feels_like': {'day': 9.58, 'night': 6.49, 'eve': 7.28, 'morn': 7.49},\n   'pressure': 1020,\n   'humidity': 66,\n   'dew_point': 4.6,\n   'wind_speed': 2.8,\n   'wind_deg': 339,\n   'wind_gust': 6.82,\n   'weather': [{'id': 500,\n     'main': 'Rain',\n     'description': 'light rain',\n     'icon': '10d'}],\n   'clouds': 97,\n   'pop': 0.92,\n   'rain': 3.48,\n   'uvi': 2},\n  {'dt': 1636974000,\n   'sunrise': 1636958243,\n   'sunset': 1636991060,\n   'moonrise': 1636986780,\n   'moonset': 1636941960,\n   'moon_phase': 0.38,\n   'temp': {'day': 10.5,\n    'min': 6.76,\n    'max': 10.5,\n    'night': 7.04,\n    'eve': 8.22,\n    'morn': 7.6},\n   'feels_like': {'day': 9.36, 'night': 5.68, 'eve': 7.16, 'morn': 5.24},\n   'pressure': 1024,\n   'humidity': 67,\n   'dew_point': 4.61,\n   'wind_speed': 3.65,\n   'wind_deg': 55,\n   'wind_gust': 9.69,\n   'weather': [{'id': 804,\n     'main': 'Clouds',\n     'description': 'overcast clouds',\n     'icon': '04d'}],\n   'clouds': 90,\n   'pop': 0.65,\n   'uvi': 2},\n  {'dt': 1637060400,\n   'sunrise': 1637044739,\n   'sunset': 1637077387,\n   'moonrise': 1637074080,\n   'moonset': 1637032440,\n   'moon_phase': 0.41,\n   'temp': {'day': 9.23,\n    'min': 5.04,\n    'max': 9.52,\n    'night': 6.99,\n    'eve': 8.04,\n    'morn': 5.04},\n   'feels_like': {'day': 9.23, 'night': 6.99, 'eve': 8.04, 'morn': 5.04},\n   'pressure': 1023,\n   'humidity': 70,\n   'dew_point': 3.87,\n   'wind_speed': 1.9,\n   'wind_deg': 18,\n   'wind_gust': 3.6,\n   'weather': [{'id': 802,\n     'main': 'Clouds',\n     'description': 'scattered clouds',\n     'icon': '03d'}],\n   'clouds': 39,\n   'pop': 0,\n   'uvi': 2}]}"
     },
     "metadata": {}
    }
   ],
   "execution_count": null
  },
  {
   "cell_type": "markdown",
   "source": "### Data filtering\nFilter the data received from the API. For the forecast for today and the forecast one week from now, find the following data:\n- Date\n- Temperature (average temperature throughout the day, Celsius)\n- Rain (precipitation volume, mm)\n- Snow (snow volume, mm)\n- Clouds (cloudiness, %)\n- Wind speed (average wind speed throughout the day, m/s)",
   "metadata": {
    "tags": [],
    "cell_id": "00006-6f9ea4a1-09b6-4726-9bb9-389276e48f1b",
    "deepnote_cell_type": "markdown"
   }
  },
  {
   "cell_type": "code",
   "metadata": {
    "tags": [],
    "cell_id": "00002-c536e0eb-2df9-41c0-85b7-3c6bb59a22cd",
    "deepnote_to_be_reexecuted": true,
    "source_hash": "c1a5c968",
    "execution_start": 1636470311383,
    "execution_millis": 224,
    "deepnote_cell_type": "code"
   },
   "source": "json = response.json()\ndaily_forecasts = json['daily']\n\nforecasts = {\n    day: {\n        'date': datetime.datetime.fromtimestamp(daily_forecasts[index]['dt']),\n        'temp': daily_forecasts[index]['temp']['day'],\n        'rain': daily_forecasts[index]['rain'] if 'rain' in daily_forecasts[index] else 0,\n        'snow': daily_forecasts[index]['snow'] if 'snow' in daily_forecasts[index] else 0,\n        'clouds': daily_forecasts[index]['clouds'],\n        'wind_speed': daily_forecasts[index]['wind_speed']\n    }\n    for day, index in [('today', 0), ('7 days', -1)]\n}\n\nforecasts",
   "outputs": [
    {
     "output_type": "execute_result",
     "execution_count": 4,
     "data": {
      "text/plain": "{'today': {'date': datetime.datetime(2021, 11, 9, 11, 0),\n  'temp': 10.32,\n  'rain': 0,\n  'snow': 0,\n  'clouds': 65,\n  'wind_speed': 3.6},\n '7 days': {'date': datetime.datetime(2021, 11, 16, 11, 0),\n  'temp': 9.23,\n  'rain': 0,\n  'snow': 0,\n  'clouds': 39,\n  'wind_speed': 1.9}}"
     },
     "metadata": {}
    }
   ],
   "execution_count": null
  },
  {
   "cell_type": "markdown",
   "source": "### Data publication\nSend the acquired data to the Kafka platform.",
   "metadata": {
    "tags": [],
    "cell_id": "00008-0058c670-7dee-4f2d-8a38-20e8bf27d3ec",
    "deepnote_cell_type": "markdown"
   }
  },
  {
   "cell_type": "code",
   "metadata": {
    "tags": [],
    "cell_id": "00001-8aa4b742-098f-4119-848b-f5526e2829ed",
    "deepnote_to_be_reexecuted": true,
    "source_hash": "d1ae4e9d",
    "execution_start": 1636470311400,
    "execution_millis": 254,
    "deepnote_cell_type": "code"
   },
   "source": "producer = KafkaProducer(bootstrap_servers='localhost:0000')\ntry:\n    producer.send('forecast', forecasts)\nexcept KafkaError:\n    log.exception('Send error')\n    pass",
   "outputs": [
    {
     "output_type": "error",
     "ename": "NoBrokersAvailable",
     "evalue": "NoBrokersAvailable",
     "traceback": [
      "\u001b[0;31m---------------------------------------------------------------------------\u001b[0m",
      "\u001b[0;31mNoBrokersAvailable\u001b[0m                        Traceback (most recent call last)",
      "\u001b[0;32m<ipython-input-5-7aefca2515f9>\u001b[0m in \u001b[0;36m<module>\u001b[0;34m\u001b[0m\n\u001b[0;32m----> 1\u001b[0;31m \u001b[0mproducer\u001b[0m \u001b[0;34m=\u001b[0m \u001b[0mKafkaProducer\u001b[0m\u001b[0;34m(\u001b[0m\u001b[0mbootstrap_servers\u001b[0m\u001b[0;34m=\u001b[0m\u001b[0;34m'localhost:0000'\u001b[0m\u001b[0;34m)\u001b[0m\u001b[0;34m\u001b[0m\u001b[0;34m\u001b[0m\u001b[0m\n\u001b[0m\u001b[1;32m      2\u001b[0m \u001b[0;32mtry\u001b[0m\u001b[0;34m:\u001b[0m\u001b[0;34m\u001b[0m\u001b[0;34m\u001b[0m\u001b[0m\n\u001b[1;32m      3\u001b[0m     \u001b[0mproducer\u001b[0m\u001b[0;34m.\u001b[0m\u001b[0msend\u001b[0m\u001b[0;34m(\u001b[0m\u001b[0;34m'forecast'\u001b[0m\u001b[0;34m,\u001b[0m \u001b[0mforecasts\u001b[0m\u001b[0;34m)\u001b[0m\u001b[0;34m\u001b[0m\u001b[0;34m\u001b[0m\u001b[0m\n\u001b[1;32m      4\u001b[0m \u001b[0;32mexcept\u001b[0m \u001b[0mKafkaError\u001b[0m\u001b[0;34m:\u001b[0m\u001b[0;34m\u001b[0m\u001b[0;34m\u001b[0m\u001b[0m\n\u001b[1;32m      5\u001b[0m     \u001b[0mlog\u001b[0m\u001b[0;34m.\u001b[0m\u001b[0mexception\u001b[0m\u001b[0;34m(\u001b[0m\u001b[0;34m'Send error'\u001b[0m\u001b[0;34m)\u001b[0m\u001b[0;34m\u001b[0m\u001b[0;34m\u001b[0m\u001b[0m\n",
      "\u001b[0;32m/usr/local/lib/python3.7/site-packages/kafka/producer/kafka.py\u001b[0m in \u001b[0;36m__init__\u001b[0;34m(self, **configs)\u001b[0m\n\u001b[1;32m    381\u001b[0m         client = KafkaClient(metrics=self._metrics, metric_group_prefix='producer',\n\u001b[1;32m    382\u001b[0m                              \u001b[0mwakeup_timeout_ms\u001b[0m\u001b[0;34m=\u001b[0m\u001b[0mself\u001b[0m\u001b[0;34m.\u001b[0m\u001b[0mconfig\u001b[0m\u001b[0;34m[\u001b[0m\u001b[0;34m'max_block_ms'\u001b[0m\u001b[0;34m]\u001b[0m\u001b[0;34m,\u001b[0m\u001b[0;34m\u001b[0m\u001b[0;34m\u001b[0m\u001b[0m\n\u001b[0;32m--> 383\u001b[0;31m                              **self.config)\n\u001b[0m\u001b[1;32m    384\u001b[0m \u001b[0;34m\u001b[0m\u001b[0m\n\u001b[1;32m    385\u001b[0m         \u001b[0;31m# Get auto-discovered version from client if necessary\u001b[0m\u001b[0;34m\u001b[0m\u001b[0;34m\u001b[0m\u001b[0;34m\u001b[0m\u001b[0m\n",
      "\u001b[0;32m/usr/local/lib/python3.7/site-packages/kafka/client_async.py\u001b[0m in \u001b[0;36m__init__\u001b[0;34m(self, **configs)\u001b[0m\n\u001b[1;32m    242\u001b[0m         \u001b[0;32mif\u001b[0m \u001b[0mself\u001b[0m\u001b[0;34m.\u001b[0m\u001b[0mconfig\u001b[0m\u001b[0;34m[\u001b[0m\u001b[0;34m'api_version'\u001b[0m\u001b[0;34m]\u001b[0m \u001b[0;32mis\u001b[0m \u001b[0;32mNone\u001b[0m\u001b[0;34m:\u001b[0m\u001b[0;34m\u001b[0m\u001b[0;34m\u001b[0m\u001b[0m\n\u001b[1;32m    243\u001b[0m             \u001b[0mcheck_timeout\u001b[0m \u001b[0;34m=\u001b[0m \u001b[0mself\u001b[0m\u001b[0;34m.\u001b[0m\u001b[0mconfig\u001b[0m\u001b[0;34m[\u001b[0m\u001b[0;34m'api_version_auto_timeout_ms'\u001b[0m\u001b[0;34m]\u001b[0m \u001b[0;34m/\u001b[0m \u001b[0;36m1000\u001b[0m\u001b[0;34m\u001b[0m\u001b[0;34m\u001b[0m\u001b[0m\n\u001b[0;32m--> 244\u001b[0;31m             \u001b[0mself\u001b[0m\u001b[0;34m.\u001b[0m\u001b[0mconfig\u001b[0m\u001b[0;34m[\u001b[0m\u001b[0;34m'api_version'\u001b[0m\u001b[0;34m]\u001b[0m \u001b[0;34m=\u001b[0m \u001b[0mself\u001b[0m\u001b[0;34m.\u001b[0m\u001b[0mcheck_version\u001b[0m\u001b[0;34m(\u001b[0m\u001b[0mtimeout\u001b[0m\u001b[0;34m=\u001b[0m\u001b[0mcheck_timeout\u001b[0m\u001b[0;34m)\u001b[0m\u001b[0;34m\u001b[0m\u001b[0;34m\u001b[0m\u001b[0m\n\u001b[0m\u001b[1;32m    245\u001b[0m \u001b[0;34m\u001b[0m\u001b[0m\n\u001b[1;32m    246\u001b[0m     \u001b[0;32mdef\u001b[0m \u001b[0m_can_bootstrap\u001b[0m\u001b[0;34m(\u001b[0m\u001b[0mself\u001b[0m\u001b[0;34m)\u001b[0m\u001b[0;34m:\u001b[0m\u001b[0;34m\u001b[0m\u001b[0;34m\u001b[0m\u001b[0m\n",
      "\u001b[0;32m/usr/local/lib/python3.7/site-packages/kafka/client_async.py\u001b[0m in \u001b[0;36mcheck_version\u001b[0;34m(self, node_id, timeout, strict)\u001b[0m\n\u001b[1;32m    898\u001b[0m             \u001b[0;32mif\u001b[0m \u001b[0mtry_node\u001b[0m \u001b[0;32mis\u001b[0m \u001b[0;32mNone\u001b[0m\u001b[0;34m:\u001b[0m\u001b[0;34m\u001b[0m\u001b[0;34m\u001b[0m\u001b[0m\n\u001b[1;32m    899\u001b[0m                 \u001b[0mself\u001b[0m\u001b[0;34m.\u001b[0m\u001b[0m_lock\u001b[0m\u001b[0;34m.\u001b[0m\u001b[0mrelease\u001b[0m\u001b[0;34m(\u001b[0m\u001b[0;34m)\u001b[0m\u001b[0;34m\u001b[0m\u001b[0;34m\u001b[0m\u001b[0m\n\u001b[0;32m--> 900\u001b[0;31m                 \u001b[0;32mraise\u001b[0m \u001b[0mErrors\u001b[0m\u001b[0;34m.\u001b[0m\u001b[0mNoBrokersAvailable\u001b[0m\u001b[0;34m(\u001b[0m\u001b[0;34m)\u001b[0m\u001b[0;34m\u001b[0m\u001b[0;34m\u001b[0m\u001b[0m\n\u001b[0m\u001b[1;32m    901\u001b[0m             \u001b[0mself\u001b[0m\u001b[0;34m.\u001b[0m\u001b[0m_maybe_connect\u001b[0m\u001b[0;34m(\u001b[0m\u001b[0mtry_node\u001b[0m\u001b[0;34m)\u001b[0m\u001b[0;34m\u001b[0m\u001b[0;34m\u001b[0m\u001b[0m\n\u001b[1;32m    902\u001b[0m             \u001b[0mconn\u001b[0m \u001b[0;34m=\u001b[0m \u001b[0mself\u001b[0m\u001b[0;34m.\u001b[0m\u001b[0m_conns\u001b[0m\u001b[0;34m[\u001b[0m\u001b[0mtry_node\u001b[0m\u001b[0;34m]\u001b[0m\u001b[0;34m\u001b[0m\u001b[0;34m\u001b[0m\u001b[0m\n",
      "\u001b[0;31mNoBrokersAvailable\u001b[0m: NoBrokersAvailable"
     ]
    }
   ],
   "execution_count": null
  },
  {
   "cell_type": "code",
   "metadata": {
    "tags": [],
    "cell_id": "00006-16aae120-aa77-4069-922b-757e795a0193",
    "deepnote_to_be_reexecuted": true,
    "source_hash": "b623e53d",
    "deepnote_cell_type": "code"
   },
   "source": "",
   "outputs": [],
   "execution_count": null
  },
  {
   "cell_type": "code",
   "metadata": {
    "tags": [],
    "cell_id": "00006-d0540e79-3ee6-467c-a7f7-a88c928c9687",
    "deepnote_to_be_reexecuted": true,
    "source_hash": "b623e53d",
    "deepnote_cell_type": "code"
   },
   "source": "",
   "outputs": [],
   "execution_count": null
  },
  {
   "cell_type": "markdown",
   "source": "<a style='text-decoration:none;line-height:16px;display:flex;color:#5B5B62;padding:10px;justify-content:end;' href='https://deepnote.com?utm_source=created-in-deepnote-cell&projectId=fa73dd04-f36c-4056-b6c3-896407612102' target=\"_blank\">\n<img alt='Created in deepnote.com' style='display:inline;max-height:16px;margin:0px;margin-right:7.5px;' src='data:image/svg+xml;base64,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' > </img>\nCreated in <span style='font-weight:600;margin-left:4px;'>Deepnote</span></a>",
   "metadata": {
    "tags": [],
    "created_in_deepnote_cell": true,
    "deepnote_cell_type": "markdown"
   }
  }
 ],
 "nbformat": 4,
 "nbformat_minor": 2,
 "metadata": {
  "orig_nbformat": 2,
  "deepnote": {
   "is_reactive": false
  },
  "deepnote_notebook_id": "d8cf527f-ec81-4b3f-97d3-05ebf9f30bac",
  "deepnote_execution_queue": []
 }
}