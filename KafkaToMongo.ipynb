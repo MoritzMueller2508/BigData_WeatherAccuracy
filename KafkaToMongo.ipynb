{
 "cells": [
  {
   "cell_type": "code",
   "source": "%pip install kafka-python\n%pip install pymongo",
   "metadata": {
    "tags": [],
    "cell_id": "00001-f87ef5d2-fa66-4fe0-96e1-248d9088b9ad",
    "deepnote_to_be_reexecuted": false,
    "source_hash": "e9be7a60",
    "execution_start": 1636468352353,
    "execution_millis": 9841,
    "deepnote_cell_type": "code"
   },
   "outputs": [
    {
     "name": "stdout",
     "text": "Requirement already satisfied: kafka-python in /usr/local/lib/python3.7/site-packages (2.0.2)\n\u001b[33mWARNING: Running pip as the 'root' user can result in broken permissions and conflicting behaviour with the system package manager. It is recommended to use a virtual environment instead: https://pip.pypa.io/warnings/venv\u001b[0m\n\u001b[33mWARNING: You are using pip version 21.2.4; however, version 21.3.1 is available.\nYou should consider upgrading via the '/usr/local/bin/python -m pip install --upgrade pip' command.\u001b[0m\nNote: you may need to restart the kernel to use updated packages.\nCollecting pymongo\n  Downloading pymongo-3.12.1-cp37-cp37m-manylinux_2_17_x86_64.manylinux2014_x86_64.whl (507 kB)\n\u001b[K     |████████████████████████████████| 507 kB 21.8 MB/s \n\u001b[?25hInstalling collected packages: pymongo\nSuccessfully installed pymongo-3.12.1\n\u001b[33mWARNING: Running pip as the 'root' user can result in broken permissions and conflicting behaviour with the system package manager. It is recommended to use a virtual environment instead: https://pip.pypa.io/warnings/venv\u001b[0m\n\u001b[33mWARNING: You are using pip version 21.2.4; however, version 21.3.1 is available.\nYou should consider upgrading via the '/usr/local/bin/python -m pip install --upgrade pip' command.\u001b[0m\nNote: you may need to restart the kernel to use updated packages.\n",
     "output_type": "stream"
    }
   ],
   "execution_count": null
  },
  {
   "cell_type": "markdown",
   "source": "### Setup\nImport required libraries.",
   "metadata": {
    "tags": [],
    "cell_id": "00001-05ecf5b7-fa46-47aa-acd3-66ebcfca7ad0",
    "deepnote_cell_type": "markdown"
   }
  },
  {
   "cell_type": "code",
   "metadata": {
    "tags": [],
    "cell_id": "00000-a5333c59-f516-4543-a20c-37de1784a6ee",
    "deepnote_to_be_reexecuted": false,
    "source_hash": "5bf705dc",
    "execution_start": 1636468370902,
    "execution_millis": 454,
    "deepnote_cell_type": "code"
   },
   "source": "import logging as log\nimport pymongo\nfrom kafka import KafkaConsumer\nfrom kafka.errors import KafkaError",
   "outputs": [],
   "execution_count": null
  },
  {
   "cell_type": "markdown",
   "source": "### push_to_mongodb\n\nThis function pushes a dictionary of weather forecast data to the MongoDB database.\n\n##### Arguments\n    message : dict\n        The forecast data as received from Kafka.\n        Must include the keys 'today' and '7 days', which should each link to a dictionary of forecast data for the corresponding day.\n\n##### Returns\n    N/A\n\n##### Side effects\n    The forecast data is inserted into the MongoDB database.\n",
   "metadata": {
    "tags": [],
    "cell_id": "00003-ebc454a8-79e4-44f6-ba3f-8b7d0eddf6a9",
    "deepnote_cell_type": "markdown"
   }
  },
  {
   "cell_type": "code",
   "source": "def push_to_mongodb(message):\n    client = pymongo.MongoClient('mongodb://localhost:0001/')\n    db = client['weather_forecasts']\n\n    for key in message: # 'today' or '7 days'\n        value = {\n            message[key]['date']: {\n                weather_quantity: weather_value\n                    for weather_quantity, weather_value in message[key].items()\n                    if weather_quantity != 'date'\n            }\n        }\n\n        col = db[key]\n        col.insert_one(value)",
   "metadata": {
    "tags": [],
    "cell_id": "00002-0b9b50e9-5f01-4d1f-8655-c40ea1880d32",
    "deepnote_to_be_reexecuted": false,
    "source_hash": "7b291cd9",
    "execution_start": 1636469110306,
    "execution_millis": 1,
    "deepnote_cell_type": "code"
   },
   "outputs": [],
   "execution_count": null
  },
  {
   "cell_type": "markdown",
   "source": "### Migrate data\nListen to the 'forecast' topic on the Kafka platform. If there are any new messages, push them to the MongoDB database.",
   "metadata": {
    "tags": [],
    "cell_id": "00005-67d0750e-3af1-4d16-a157-56d1d48e72c3",
    "deepnote_cell_type": "markdown"
   }
  },
  {
   "cell_type": "code",
   "source": "try:\n    consumer = KafkaConsumer('forecast', bootstrap_servers='localhost:0000')\n    for message in consumer:\n        push_to_mongodb(message)\nexcept KafkaError:\n    log.exception('Receive error')\n    pass",
   "metadata": {
    "tags": [],
    "cell_id": "00001-b19cc549-4d14-4b0b-b802-2612343ea499",
    "deepnote_to_be_reexecuted": false,
    "source_hash": "5e9b26fd",
    "execution_start": 1636468252164,
    "execution_millis": 778,
    "deepnote_cell_type": "code"
   },
   "outputs": [
    {
     "name": "stderr",
     "text": "ERROR:root:Receive error\nTraceback (most recent call last):\n  File \"<ipython-input-5-1a5293953853>\", line 2, in <module>\n    consumer = KafkaConsumer('forecast', bootstrap_servers='localhost:0000')\n  File \"/usr/local/lib/python3.7/site-packages/kafka/consumer/group.py\", line 356, in __init__\n    self._client = KafkaClient(metrics=self._metrics, **self.config)\n  File \"/usr/local/lib/python3.7/site-packages/kafka/client_async.py\", line 244, in __init__\n    self.config['api_version'] = self.check_version(timeout=check_timeout)\n  File \"/usr/local/lib/python3.7/site-packages/kafka/client_async.py\", line 900, in check_version\n    raise Errors.NoBrokersAvailable()\nkafka.errors.NoBrokersAvailable: NoBrokersAvailable\n",
     "output_type": "stream"
    }
   ],
   "execution_count": null
  },
  {
   "cell_type": "code",
   "source": "",
   "metadata": {
    "tags": [],
    "cell_id": "00003-409035a7-fcde-4a5f-8675-84ba433fb561",
    "deepnote_cell_type": "code"
   },
   "outputs": [],
   "execution_count": null
  },
  {
   "cell_type": "markdown",
   "source": "<a style='text-decoration:none;line-height:16px;display:flex;color:#5B5B62;padding:10px;justify-content:end;' href='https://deepnote.com?utm_source=created-in-deepnote-cell&projectId=fa73dd04-f36c-4056-b6c3-896407612102' target=\"_blank\">\n<img alt='Created in deepnote.com' style='display:inline;max-height:16px;margin:0px;margin-right:7.5px;' src='data:image/svg+xml;base64,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' > </img>\nCreated in <span style='font-weight:600;margin-left:4px;'>Deepnote</span></a>",
   "metadata": {
    "tags": [],
    "created_in_deepnote_cell": true,
    "deepnote_cell_type": "markdown"
   }
  }
 ],
 "nbformat": 4,
 "nbformat_minor": 2,
 "metadata": {
  "orig_nbformat": 2,
  "deepnote": {
   "is_reactive": false
  },
  "deepnote_notebook_id": "9fbe1f79-e235-473b-8e5c-b9a828f0fd2c",
  "deepnote_execution_queue": []
 }
}